{
  "cells": [
    {
      "cell_type": "code",
      "execution_count": null,
      "metadata": {
        "id": "RVNhvFMPhQvQ"
      },
      "outputs": [],
      "source": [
        "import numpy as np\n",
        "import pandas as pd\n",
        "from sklearn.model_selection import train_test_split\n",
        "from sklearn.metrics import accuracy_score, precision_score, recall_score, f1_score\n",
        "from keras.preprocessing.text import Tokenizer\n",
        "from sklearn.preprocessing import LabelEncoder\n",
        "from keras.utils import pad_sequences\n",
        "from keras.models import Sequential\n",
        "from keras.layers import Embedding, SimpleRNN, GRU, LSTM, Bidirectional, Dense, Dropout, Input, Lambda\n",
        "from keras.optimizers import Adam\n",
        "import tensorflow as tf\n",
        "import gensim\n",
        "from scipy import spatial\n",
        "import matplotlib.pyplot as plt\n",
        "from sklearn.manifold import TSNE\n",
        "from sklearn.metrics import precision_score\n",
        "import pickle\n",
        "import json\n",
        "import tensorflow_hub as hub\n",
        "import tensorflow.compat.v1 as tf"
      ]
    },
    {
      "cell_type": "code",
      "execution_count": null,
      "metadata": {
        "id": "Kci_vanjhQvW",
        "outputId": "e837b420-d332-400c-f985-766c1e4a084a"
      },
      "outputs": [
        {
          "name": "stdout",
          "output_type": "stream",
          "text": [
            "Found GPU at: /device:GPU:0\n"
          ]
        }
      ],
      "source": [
        "device_name = tf.test.gpu_device_name()\n",
        "if len(device_name) > 0:\n",
        "    print(\"Found GPU at: {}\".format(device_name))\n",
        "else:\n",
        "    device_name = \"/device:CPU:0\"\n",
        "    print(\"No GPU, using {}.\".format(device_name))"
      ]
    },
    {
      "cell_type": "markdown",
      "metadata": {
        "id": "UVTrda0uhQvY"
      },
      "source": [
        "# `Choosing Best Model`"
      ]
    },
    {
      "cell_type": "code",
      "execution_count": null,
      "metadata": {
        "id": "a-XG5GDzhQva"
      },
      "outputs": [],
      "source": [
        "# Define the models\n",
        "def create_model(model_type, num_layers, dropout_rate):\n",
        "    model = Sequential()\n",
        "    model.add(Embedding(input_dim=len(tokenizer.word_index)+1, output_dim=100, input_length=max_sequence_length))\n",
        "    if model_type == 'RNN':\n",
        "        for i in range(num_layers - 1):\n",
        "            model.add(SimpleRNN(units=128, return_sequences=True))\n",
        "        model.add(SimpleRNN(units=128, return_sequences=False))\n",
        "    elif model_type == 'GRU':\n",
        "        for i in range(num_layers - 1):\n",
        "            model.add(GRU(units=128, return_sequences=True))\n",
        "        model.add(GRU(units=128, return_sequences=False))\n",
        "    elif model_type == 'LSTM':\n",
        "        for i in range(num_layers - 1):\n",
        "            model.add(LSTM(units=128, return_sequences=True))\n",
        "        model.add(LSTM(units=128, return_sequences=False))\n",
        "    elif model_type == 'BiLSTM':\n",
        "        for i in range(num_layers - 1):\n",
        "            model.add(Bidirectional(LSTM(units=64, return_sequences=True)))\n",
        "        model.add(Bidirectional(LSTM(units=64, return_sequences=False)))\n",
        "    model.add(Dropout(dropout_rate))\n",
        "    model.add(Dense(1, activation='sigmoid'))\n",
        "    return model\n"
      ]
    },
    {
      "cell_type": "code",
      "execution_count": null,
      "metadata": {
        "id": "1aUf48q5hQvd"
      },
      "outputs": [],
      "source": [
        "# Load the dataset\n",
        "url = \"https://raw.githubusercontent.com/MuhammadYaseenKhan/Urdu-Sentiment-Corpus/master/urdu-sentiment-corpus-v1.tsv\"\n",
        "data = pd.read_csv(url, sep='\\t')\n",
        "data = data.dropna()\n",
        "\n",
        "# Preprocess the dataset\n",
        "texts = data['Tweet'].values\n",
        "labels = data['Class'].apply(lambda x: 1 if x == 'P' else 0).values\n",
        "\n",
        "# Tokenize the text\n",
        "tokenizer = Tokenizer()\n",
        "tokenizer.fit_on_texts(texts)\n",
        "sequences = tokenizer.texts_to_sequences(texts)\n",
        "\n",
        "# Pad sequences to make them of equal length\n",
        "max_sequence_length = max([len(seq) for seq in sequences])\n",
        "sequences = pad_sequences(sequences, maxlen=max_sequence_length)\n",
        "\n",
        "# Split the dataset into training and testing sets\n",
        "X_train, X_test, y_train, y_test = train_test_split(sequences, labels, test_size=0.25, random_state=42)"
      ]
    },
    {
      "cell_type": "code",
      "execution_count": null,
      "metadata": {
        "colab": {
          "base_uri": "https://localhost:8080/"
        },
        "id": "SY_1wSSZn0P-",
        "outputId": "0768a4d3-1351-429e-a4f0-fdb44aee36c3",
        "scrolled": true
      },
      "outputs": [
        {
          "name": "stdout",
          "output_type": "stream",
          "text": [
            "8/8 [==============================] - 0s 7ms/step\n",
            "8/8 [==============================] - 0s 8ms/step\n",
            "8/8 [==============================] - 0s 11ms/step\n",
            "8/8 [==============================] - 0s 12ms/step\n",
            "8/8 [==============================] - 0s 3ms/step\n",
            "8/8 [==============================] - 0s 3ms/step\n",
            "8/8 [==============================] - 1s 4ms/step\n",
            "8/8 [==============================] - 1s 4ms/step\n",
            "8/8 [==============================] - 0s 4ms/step\n",
            "8/8 [==============================] - 0s 4ms/step\n",
            "8/8 [==============================] - 1s 5ms/step\n",
            "8/8 [==============================] - 1s 5ms/step\n",
            "8/8 [==============================] - 1s 6ms/step\n",
            "8/8 [==============================] - 1s 6ms/step\n",
            "8/8 [==============================] - 1s 9ms/step\n",
            "8/8 [==============================] - 1s 9ms/step\n",
            "     Model  Num Layers  Dropout Rate  Accuracy  Precision    Recall  F1 Score\n",
            "0      RNN           2           0.3     0.444   0.414141  0.336066  0.371041\n",
            "1      RNN           2           0.7     0.556   0.544715  0.549180  0.546939\n",
            "2      RNN           3           0.3     0.500   0.487805  0.491803  0.489796\n",
            "3      RNN           3           0.7     0.524   0.511811  0.532787  0.522088\n",
            "4      GRU           2           0.3     0.636   0.616541  0.672131  0.643137\n",
            "5      GRU           2           0.7     0.612   0.581699  0.729508  0.647273\n",
            "6      GRU           3           0.3     0.632   0.607143  0.696721  0.648855\n",
            "7      GRU           3           0.7     0.612   0.582781  0.721311  0.644689\n",
            "8     LSTM           2           0.3     0.636   0.630252  0.614754  0.622407\n",
            "9     LSTM           2           0.7     0.660   0.633094  0.721311  0.674330\n",
            "10    LSTM           3           0.3     0.624   0.600000  0.688525  0.641221\n",
            "11    LSTM           3           0.7     0.644   0.646018  0.598361  0.621277\n",
            "12  BiLSTM           2           0.3     0.644   0.657143  0.565574  0.607930\n",
            "13  BiLSTM           2           0.7     0.620   0.604651  0.639344  0.621514\n",
            "14  BiLSTM           3           0.3     0.632   0.598684  0.745902  0.664234\n",
            "15  BiLSTM           3           0.7     0.620   0.617391  0.581967  0.599156\n"
          ]
        }
      ],
      "source": [
        "# Define hyperparameters\n",
        "model_types = ['RNN', 'GRU', 'LSTM', 'BiLSTM']\n",
        "num_layers = [2, 3]\n",
        "dropout_rates = [0.3, 0.7]\n",
        "\n",
        "# Train and evaluate models\n",
        "results = []\n",
        "with tf.device(device_name):\n",
        "    for model_type in model_types:\n",
        "        for num_layer in num_layers:\n",
        "            for dropout_rate in dropout_rates:\n",
        "                model = create_model(model_type, num_layer, dropout_rate)\n",
        "                model.compile(optimizer=Adam(learning_rate=0.001), loss='binary_crossentropy', metrics=['accuracy'])\n",
        "                model.fit(X_train, y_train, epochs=5, batch_size=64, verbose=0)\n",
        "                y_pred = model.predict(X_test).flatten()\n",
        "                y_pred_binary = np.where(y_pred > 0.5, 1, 0)\n",
        "                accuracy = accuracy_score(y_test, y_pred_binary)\n",
        "                precision = precision_score(y_test, y_pred_binary)\n",
        "                recall = recall_score(y_test, y_pred_binary)\n",
        "                f1 = f1_score(y_test, y_pred_binary)\n",
        "                results.append({\n",
        "                    'Model': model_type,\n",
        "                    'Num Layers': num_layer,\n",
        "                    'Dropout Rate': dropout_rate,\n",
        "                    'Accuracy': accuracy,\n",
        "                    'Precision': precision,\n",
        "                    'Recall': recall,\n",
        "                    'F1 Score': f1\n",
        "                })\n",
        "\n",
        "# Display results\n",
        "results_df = pd.DataFrame(results)\n",
        "print(results_df)\n"
      ]
    },
    {
      "cell_type": "code",
      "execution_count": null,
      "metadata": {
        "scrolled": true,
        "id": "PmP0cscLhQve",
        "outputId": "a5cd8af3-81b9-46c7-e4f5-129a7a4909d9"
      },
      "outputs": [
        {
          "data": {
            "text/html": [
              "<div>\n",
              "<style scoped>\n",
              "    .dataframe tbody tr th:only-of-type {\n",
              "        vertical-align: middle;\n",
              "    }\n",
              "\n",
              "    .dataframe tbody tr th {\n",
              "        vertical-align: top;\n",
              "    }\n",
              "\n",
              "    .dataframe thead th {\n",
              "        text-align: right;\n",
              "    }\n",
              "</style>\n",
              "<table border=\"1\" class=\"dataframe\">\n",
              "  <thead>\n",
              "    <tr style=\"text-align: right;\">\n",
              "      <th></th>\n",
              "      <th>Model</th>\n",
              "      <th>Num Layers</th>\n",
              "      <th>Dropout Rate</th>\n",
              "      <th>Accuracy</th>\n",
              "      <th>Precision</th>\n",
              "      <th>Recall</th>\n",
              "      <th>F1 Score</th>\n",
              "    </tr>\n",
              "  </thead>\n",
              "  <tbody>\n",
              "    <tr>\n",
              "      <th>0</th>\n",
              "      <td>RNN</td>\n",
              "      <td>2</td>\n",
              "      <td>0.3</td>\n",
              "      <td>0.444</td>\n",
              "      <td>0.414141</td>\n",
              "      <td>0.336066</td>\n",
              "      <td>0.371041</td>\n",
              "    </tr>\n",
              "    <tr>\n",
              "      <th>1</th>\n",
              "      <td>RNN</td>\n",
              "      <td>2</td>\n",
              "      <td>0.7</td>\n",
              "      <td>0.556</td>\n",
              "      <td>0.544715</td>\n",
              "      <td>0.549180</td>\n",
              "      <td>0.546939</td>\n",
              "    </tr>\n",
              "    <tr>\n",
              "      <th>2</th>\n",
              "      <td>RNN</td>\n",
              "      <td>3</td>\n",
              "      <td>0.3</td>\n",
              "      <td>0.500</td>\n",
              "      <td>0.487805</td>\n",
              "      <td>0.491803</td>\n",
              "      <td>0.489796</td>\n",
              "    </tr>\n",
              "    <tr>\n",
              "      <th>3</th>\n",
              "      <td>RNN</td>\n",
              "      <td>3</td>\n",
              "      <td>0.7</td>\n",
              "      <td>0.524</td>\n",
              "      <td>0.511811</td>\n",
              "      <td>0.532787</td>\n",
              "      <td>0.522088</td>\n",
              "    </tr>\n",
              "    <tr>\n",
              "      <th>4</th>\n",
              "      <td>GRU</td>\n",
              "      <td>2</td>\n",
              "      <td>0.3</td>\n",
              "      <td>0.636</td>\n",
              "      <td>0.616541</td>\n",
              "      <td>0.672131</td>\n",
              "      <td>0.643137</td>\n",
              "    </tr>\n",
              "    <tr>\n",
              "      <th>5</th>\n",
              "      <td>GRU</td>\n",
              "      <td>2</td>\n",
              "      <td>0.7</td>\n",
              "      <td>0.612</td>\n",
              "      <td>0.581699</td>\n",
              "      <td>0.729508</td>\n",
              "      <td>0.647273</td>\n",
              "    </tr>\n",
              "    <tr>\n",
              "      <th>6</th>\n",
              "      <td>GRU</td>\n",
              "      <td>3</td>\n",
              "      <td>0.3</td>\n",
              "      <td>0.632</td>\n",
              "      <td>0.607143</td>\n",
              "      <td>0.696721</td>\n",
              "      <td>0.648855</td>\n",
              "    </tr>\n",
              "    <tr>\n",
              "      <th>7</th>\n",
              "      <td>GRU</td>\n",
              "      <td>3</td>\n",
              "      <td>0.7</td>\n",
              "      <td>0.612</td>\n",
              "      <td>0.582781</td>\n",
              "      <td>0.721311</td>\n",
              "      <td>0.644689</td>\n",
              "    </tr>\n",
              "    <tr>\n",
              "      <th>8</th>\n",
              "      <td>LSTM</td>\n",
              "      <td>2</td>\n",
              "      <td>0.3</td>\n",
              "      <td>0.636</td>\n",
              "      <td>0.630252</td>\n",
              "      <td>0.614754</td>\n",
              "      <td>0.622407</td>\n",
              "    </tr>\n",
              "    <tr>\n",
              "      <th>9</th>\n",
              "      <td>LSTM</td>\n",
              "      <td>2</td>\n",
              "      <td>0.7</td>\n",
              "      <td>0.660</td>\n",
              "      <td>0.633094</td>\n",
              "      <td>0.721311</td>\n",
              "      <td>0.674330</td>\n",
              "    </tr>\n",
              "    <tr>\n",
              "      <th>10</th>\n",
              "      <td>LSTM</td>\n",
              "      <td>3</td>\n",
              "      <td>0.3</td>\n",
              "      <td>0.624</td>\n",
              "      <td>0.600000</td>\n",
              "      <td>0.688525</td>\n",
              "      <td>0.641221</td>\n",
              "    </tr>\n",
              "    <tr>\n",
              "      <th>11</th>\n",
              "      <td>LSTM</td>\n",
              "      <td>3</td>\n",
              "      <td>0.7</td>\n",
              "      <td>0.644</td>\n",
              "      <td>0.646018</td>\n",
              "      <td>0.598361</td>\n",
              "      <td>0.621277</td>\n",
              "    </tr>\n",
              "    <tr>\n",
              "      <th>12</th>\n",
              "      <td>BiLSTM</td>\n",
              "      <td>2</td>\n",
              "      <td>0.3</td>\n",
              "      <td>0.644</td>\n",
              "      <td>0.657143</td>\n",
              "      <td>0.565574</td>\n",
              "      <td>0.607930</td>\n",
              "    </tr>\n",
              "    <tr>\n",
              "      <th>13</th>\n",
              "      <td>BiLSTM</td>\n",
              "      <td>2</td>\n",
              "      <td>0.7</td>\n",
              "      <td>0.620</td>\n",
              "      <td>0.604651</td>\n",
              "      <td>0.639344</td>\n",
              "      <td>0.621514</td>\n",
              "    </tr>\n",
              "    <tr>\n",
              "      <th>14</th>\n",
              "      <td>BiLSTM</td>\n",
              "      <td>3</td>\n",
              "      <td>0.3</td>\n",
              "      <td>0.632</td>\n",
              "      <td>0.598684</td>\n",
              "      <td>0.745902</td>\n",
              "      <td>0.664234</td>\n",
              "    </tr>\n",
              "    <tr>\n",
              "      <th>15</th>\n",
              "      <td>BiLSTM</td>\n",
              "      <td>3</td>\n",
              "      <td>0.7</td>\n",
              "      <td>0.620</td>\n",
              "      <td>0.617391</td>\n",
              "      <td>0.581967</td>\n",
              "      <td>0.599156</td>\n",
              "    </tr>\n",
              "  </tbody>\n",
              "</table>\n",
              "</div>"
            ],
            "text/plain": [
              "     Model  Num Layers  Dropout Rate  Accuracy  Precision    Recall  F1 Score\n",
              "0      RNN           2           0.3     0.444   0.414141  0.336066  0.371041\n",
              "1      RNN           2           0.7     0.556   0.544715  0.549180  0.546939\n",
              "2      RNN           3           0.3     0.500   0.487805  0.491803  0.489796\n",
              "3      RNN           3           0.7     0.524   0.511811  0.532787  0.522088\n",
              "4      GRU           2           0.3     0.636   0.616541  0.672131  0.643137\n",
              "5      GRU           2           0.7     0.612   0.581699  0.729508  0.647273\n",
              "6      GRU           3           0.3     0.632   0.607143  0.696721  0.648855\n",
              "7      GRU           3           0.7     0.612   0.582781  0.721311  0.644689\n",
              "8     LSTM           2           0.3     0.636   0.630252  0.614754  0.622407\n",
              "9     LSTM           2           0.7     0.660   0.633094  0.721311  0.674330\n",
              "10    LSTM           3           0.3     0.624   0.600000  0.688525  0.641221\n",
              "11    LSTM           3           0.7     0.644   0.646018  0.598361  0.621277\n",
              "12  BiLSTM           2           0.3     0.644   0.657143  0.565574  0.607930\n",
              "13  BiLSTM           2           0.7     0.620   0.604651  0.639344  0.621514\n",
              "14  BiLSTM           3           0.3     0.632   0.598684  0.745902  0.664234\n",
              "15  BiLSTM           3           0.7     0.620   0.617391  0.581967  0.599156"
            ]
          },
          "execution_count": 8,
          "metadata": {},
          "output_type": "execute_result"
        }
      ],
      "source": [
        "results_df"
      ]
    },
    {
      "cell_type": "code",
      "execution_count": null,
      "metadata": {
        "id": "POkRGKIShQvf",
        "outputId": "dd0108e7-b7c6-49d1-bd1b-583401abbb9f"
      },
      "outputs": [
        {
          "data": {
            "text/html": [
              "<div>\n",
              "<style scoped>\n",
              "    .dataframe tbody tr th:only-of-type {\n",
              "        vertical-align: middle;\n",
              "    }\n",
              "\n",
              "    .dataframe tbody tr th {\n",
              "        vertical-align: top;\n",
              "    }\n",
              "\n",
              "    .dataframe thead th {\n",
              "        text-align: right;\n",
              "    }\n",
              "</style>\n",
              "<table border=\"1\" class=\"dataframe\">\n",
              "  <thead>\n",
              "    <tr style=\"text-align: right;\">\n",
              "      <th></th>\n",
              "      <th>Model</th>\n",
              "      <th>Num Layers</th>\n",
              "      <th>Dropout Rate</th>\n",
              "      <th>Accuracy</th>\n",
              "      <th>Precision</th>\n",
              "      <th>Recall</th>\n",
              "      <th>F1 Score</th>\n",
              "    </tr>\n",
              "  </thead>\n",
              "  <tbody>\n",
              "    <tr>\n",
              "      <th>9</th>\n",
              "      <td>LSTM</td>\n",
              "      <td>2</td>\n",
              "      <td>0.7</td>\n",
              "      <td>0.66</td>\n",
              "      <td>0.633094</td>\n",
              "      <td>0.721311</td>\n",
              "      <td>0.67433</td>\n",
              "    </tr>\n",
              "  </tbody>\n",
              "</table>\n",
              "</div>"
            ],
            "text/plain": [
              "  Model  Num Layers  Dropout Rate  Accuracy  Precision    Recall  F1 Score\n",
              "9  LSTM           2           0.7      0.66   0.633094  0.721311   0.67433"
            ]
          },
          "execution_count": 9,
          "metadata": {},
          "output_type": "execute_result"
        }
      ],
      "source": [
        "sorted_results = results_df.sort_values(by=['F1 Score'], ascending=False).head(1)\n",
        "sorted_results"
      ]
    },
    {
      "cell_type": "markdown",
      "metadata": {
        "id": "csKt9QsDhQvg"
      },
      "source": [
        "# `Implementing Different Embedding`"
      ]
    },
    {
      "cell_type": "code",
      "execution_count": null,
      "metadata": {
        "id": "l1KhogRJhQvh"
      },
      "outputs": [],
      "source": [
        "def create_LSTM_model(embedding_dim, embedding_matrix, max_sequence_length, num_words, num_layers=2, dropout_rate=0.7):\n",
        "\n",
        "    model = Sequential()\n",
        "    model.add(Embedding(num_words, embedding_dim, weights=[embedding_matrix], input_length=max_sequence_length, trainable=False))\n",
        "\n",
        "    for i in range(num_layers - 1):\n",
        "        model.add(LSTM(units=128, return_sequences=True))\n",
        "    model.add(LSTM(units=128, return_sequences=False))\n",
        "    model.add(Dropout(dropout_rate))\n",
        "    model.add(Dense(1, activation='sigmoid'))\n",
        "    return model"
      ]
    },
    {
      "cell_type": "code",
      "execution_count": null,
      "metadata": {
        "id": "2qar-WuPhQvj"
      },
      "outputs": [],
      "source": [
        "word_index = tokenizer.word_index\n",
        "num_words = len(word_index) + 1\n",
        "embedding_dim = {}\n",
        "embedding_matrix = {}"
      ]
    },
    {
      "cell_type": "markdown",
      "metadata": {
        "id": "6PHoZMbChQvk"
      },
      "source": [
        "## Word2Vec Loading and Embedding"
      ]
    },
    {
      "cell_type": "code",
      "execution_count": null,
      "metadata": {
        "id": "4A5VkNAnhQvl"
      },
      "outputs": [],
      "source": [
        "# Load Google's pre-trained Word2Vec model.\n",
        "google_model = gensim.models.KeyedVectors.load_word2vec_format('C:/Users/Afnan Hussain/GoogleNews-vectors-negative300.bin/GoogleNews-vectors-negative300.bin', binary=True)"
      ]
    },
    {
      "cell_type": "code",
      "execution_count": null,
      "metadata": {
        "id": "MyZRskvJhQvm"
      },
      "outputs": [],
      "source": [
        "embedding_dim['Word2Vec'] = 300  # as in the loaded Word2Vec model\n",
        "\n",
        "word2vec_embedding_matrix = np.zeros((num_words, embedding_dim['Word2Vec']))\n",
        "for word, i in word_index.items():\n",
        "    if word in google_model:\n",
        "        word2vec_embedding_matrix[i] = google_model[word]\n",
        "\n",
        "embedding_matrix['Word2Vec'] = word2vec_embedding_matrix"
      ]
    },
    {
      "cell_type": "markdown",
      "metadata": {
        "id": "E4c9Yv06hQvm"
      },
      "source": [
        "## Glove Loading and Embedding"
      ]
    },
    {
      "cell_type": "code",
      "execution_count": null,
      "metadata": {
        "id": "Vgw_Gcv7hQvm"
      },
      "outputs": [],
      "source": [
        "glove_embeddings_index = {}\n",
        "with open('C:/Users/Afnan Hussain/glove.6B.300d.txt', encoding='utf-8') as f:\n",
        "    for line in f:\n",
        "        values = line.split()\n",
        "        word = values[0]\n",
        "        embeddings = np.asarray(values[1:], dtype='float32')\n",
        "        glove_embeddings_index[word] = embeddings\n",
        "\n",
        "\n",
        "embedding_dim['GloVe'] = 300  # as in the GloVe embeddings\n",
        "\n",
        "glove_embedding_matrix = np.zeros((num_words, embedding_dim['GloVe']))\n",
        "for word, i in word_index.items():\n",
        "    embedding_vector = glove_embeddings_index.get(word)\n",
        "    if embedding_vector is not None:\n",
        "        glove_embedding_matrix[i] = embedding_vector\n",
        "\n",
        "embedding_matrix['GloVe'] = glove_embedding_matrix"
      ]
    },
    {
      "cell_type": "markdown",
      "metadata": {
        "id": "Lc9CK4FhhQvm"
      },
      "source": [
        "## Fasttext Loading and Embedding"
      ]
    },
    {
      "cell_type": "code",
      "execution_count": null,
      "metadata": {
        "id": "4iI0XlWshQvn"
      },
      "outputs": [],
      "source": [
        "# Load FastText embeddings\n",
        "fasttext_model = gensim.models.KeyedVectors.load_word2vec_format('C:/Users/Afnan Hussain/wiki-news-300d-1M.vec', binary=False)"
      ]
    },
    {
      "cell_type": "code",
      "execution_count": null,
      "metadata": {
        "id": "Gq03JKzThQvn"
      },
      "outputs": [],
      "source": [
        "embedding_dim['FastText'] = 300  # as in the FastText embeddings\n",
        "\n",
        "fasttext_embedding_matrix = np.zeros((num_words, embedding_dim['FastText']))\n",
        "for word, i in word_index.items():\n",
        "    if word in fasttext_model:\n",
        "        fasttext_embedding_matrix[i] = fasttext_model[word]\n",
        "\n",
        "embedding_matrix['FastText'] = fasttext_embedding_matrix"
      ]
    },
    {
      "cell_type": "markdown",
      "metadata": {
        "id": "Vlq6N83fhQvn"
      },
      "source": [
        "## Elmo Loading and Embedding and Training"
      ]
    },
    {
      "cell_type": "code",
      "execution_count": null,
      "metadata": {
        "id": "XkBSYf8ShQvn",
        "outputId": "0f8925c8-bfe4-45e2-b9f2-b4c668778084"
      },
      "outputs": [
        {
          "name": "stdout",
          "output_type": "stream",
          "text": [
            "7/7 [==============================] - 0s 4ms/step\n",
            "Accuracy: 0.5357142857142857\n",
            "Precision: 0.5\n",
            "Recall: 0.01098901098901099\n",
            "F1 Score: 0.021505376344086023\n"
          ]
        }
      ],
      "source": [
        "elmo = hub.load(\"https://tfhub.dev/google/elmo/3\")\n",
        "\n",
        "\n",
        "with tf.device('/CPU:0'):\n",
        "    # Load the pre-trained ELMo model\n",
        "    elmo = hub.load(\"https://tfhub.dev/google/elmo/3\")\n",
        "\n",
        "    # Convert the tweet text into embeddings using the loaded model\n",
        "    X = elmo.signatures[\"default\"](tf.constant(data['Tweet'].tolist()))[\"elmo\"]\n",
        "\n",
        "    model = Sequential([\n",
        "        LSTM(128, return_sequences=True, input_shape=(None, 1024)),\n",
        "        LSTM(128, return_sequences=False),\n",
        "        Dropout(0.7),\n",
        "        Dense(1, activation='sigmoid')\n",
        "    ])\n",
        "\n",
        "# Step 6: Split the data into training and test sets\n",
        "X_train, X_test, y_train, y_test = train_test_split(X.numpy(), data['Class'], test_size=0.2, random_state=42)\n",
        "\n",
        "# Step 7: Compile and train the model\n",
        "model.compile(optimizer='adam', loss='binary_crossentropy', metrics=['accuracy'])\n",
        "history = model.fit(X_train, y_train, epochs=5, batch_size=64, verbose=0)\n",
        "\n",
        "# Step 8: Evaluate the model on test data\n",
        "y_pred = (model.predict(X_test) > 0.5).astype(int)\n",
        "\n",
        "# Calculate evaluation metrics\n",
        "accuracy = accuracy_score(y_test, y_pred)\n",
        "precision = precision_score(y_test, y_pred)\n",
        "recall = recall_score(y_test, y_pred)\n",
        "f1 = f1_score(y_test, y_pred)\n",
        "\n",
        "# Print evaluation metrics\n",
        "print(\"Accuracy:\", accuracy)\n",
        "print(\"Precision:\", precision)\n",
        "print(\"Recall:\", recall)\n",
        "print(\"F1 Score:\", f1)"
      ]
    },
    {
      "cell_type": "code",
      "execution_count": null,
      "metadata": {
        "id": "uIZS82N5hQvo"
      },
      "outputs": [],
      "source": [
        "results = []\n",
        "# Append results to a list\n",
        "results.append({\n",
        "    'Model': 'LSTM',\n",
        "    'Embedding Type': 'Elmo',\n",
        "    'Num Layers': 2,\n",
        "    'Dropout Rate': 0.7,\n",
        "    'Accuracy': accuracy,\n",
        "    'Precision': precision,\n",
        "    'Recall': recall,\n",
        "    'F1 Score': f1\n",
        "})"
      ]
    },
    {
      "cell_type": "markdown",
      "metadata": {
        "id": "SkdLwqCdhQvo"
      },
      "source": [
        "## Model Training and Compile"
      ]
    },
    {
      "cell_type": "code",
      "execution_count": null,
      "metadata": {
        "scrolled": true,
        "id": "8suM9ZXFhQvo",
        "outputId": "6724c216-7954-4b16-a3b7-b3ef104d1345"
      },
      "outputs": [
        {
          "name": "stdout",
          "output_type": "stream",
          "text": [
            "8/8 [==============================] - 1s 6ms/step\n",
            "8/8 [==============================] - 0s 4ms/step\n"
          ]
        }
      ],
      "source": [
        "with tf.device(device_name):\n",
        "    for embedding_type in ['None','Word2Vec', 'GloVe', 'FastText']:\n",
        "        if embedding_type=='None':\n",
        "            model = create_model('BiLSTM', 2, 0.3)\n",
        "        else:\n",
        "            model = create_LSTM_model(embedding_dim[embedding_type], embedding_matrix[embedding_type], max_sequence_length, num_words)\n",
        "        model.compile(optimizer=Adam(learning_rate=0.01), loss='binary_crossentropy', metrics=['accuracy'])\n",
        "        model.fit(X_train, y_train, epochs=5, batch_size=64, verbose=0)\n",
        "        y_pred = (model.predict(X_test) > 0.5).astype(int)\n",
        "        accuracy = accuracy_score(y_test, y_pred)\n",
        "        precision = precision_score(y_test, y_pred, zero_division=0.0)  # Handle undefined precision\n",
        "        recall = recall_score(y_test, y_pred)\n",
        "        f1 = f1_score(y_test, y_pred)\n",
        "        results.append({\n",
        "            'Model': 'LSTM',\n",
        "            'Embedding Type' : embedding_type,\n",
        "            'Num Layers': 2,\n",
        "            'Dropout Rate': 0.7,\n",
        "            'Accuracy': accuracy,\n",
        "            'Precision': precision,\n",
        "            'Recall': recall,\n",
        "            'F1 Score': f1\n",
        "        })"
      ]
    },
    {
      "cell_type": "code",
      "execution_count": null,
      "metadata": {
        "id": "aeLQLBNThQvp",
        "outputId": "d48a9a49-8d31-45f4-c724-062307e929dc"
      },
      "outputs": [
        {
          "data": {
            "text/html": [
              "<div>\n",
              "<style scoped>\n",
              "    .dataframe tbody tr th:only-of-type {\n",
              "        vertical-align: middle;\n",
              "    }\n",
              "\n",
              "    .dataframe tbody tr th {\n",
              "        vertical-align: top;\n",
              "    }\n",
              "\n",
              "    .dataframe thead th {\n",
              "        text-align: right;\n",
              "    }\n",
              "</style>\n",
              "<table border=\"1\" class=\"dataframe\">\n",
              "  <thead>\n",
              "    <tr style=\"text-align: right;\">\n",
              "      <th></th>\n",
              "      <th>Model</th>\n",
              "      <th>Embedding Type</th>\n",
              "      <th>Num Layers</th>\n",
              "      <th>Dropout Rate</th>\n",
              "      <th>Accuracy</th>\n",
              "      <th>Precision</th>\n",
              "      <th>Recall</th>\n",
              "      <th>F1 Score</th>\n",
              "    </tr>\n",
              "  </thead>\n",
              "  <tbody>\n",
              "    <tr>\n",
              "      <th>0</th>\n",
              "      <td>LSTM</td>\n",
              "      <td>Elmo</td>\n",
              "      <td>2</td>\n",
              "      <td>0.7</td>\n",
              "      <td>0.576531</td>\n",
              "      <td>0.586957</td>\n",
              "      <td>0.296703</td>\n",
              "      <td>0.394161</td>\n",
              "    </tr>\n",
              "    <tr>\n",
              "      <th>1</th>\n",
              "      <td>LSTM</td>\n",
              "      <td>None</td>\n",
              "      <td>2</td>\n",
              "      <td>0.7</td>\n",
              "      <td>0.612000</td>\n",
              "      <td>0.601626</td>\n",
              "      <td>0.606557</td>\n",
              "      <td>0.604082</td>\n",
              "    </tr>\n",
              "    <tr>\n",
              "      <th>2</th>\n",
              "      <td>LSTM</td>\n",
              "      <td>Word2Vec</td>\n",
              "      <td>2</td>\n",
              "      <td>0.7</td>\n",
              "      <td>0.500000</td>\n",
              "      <td>0.493724</td>\n",
              "      <td>0.967213</td>\n",
              "      <td>0.653740</td>\n",
              "    </tr>\n",
              "    <tr>\n",
              "      <th>3</th>\n",
              "      <td>LSTM</td>\n",
              "      <td>GloVe</td>\n",
              "      <td>2</td>\n",
              "      <td>0.7</td>\n",
              "      <td>0.528000</td>\n",
              "      <td>0.600000</td>\n",
              "      <td>0.098361</td>\n",
              "      <td>0.169014</td>\n",
              "    </tr>\n",
              "    <tr>\n",
              "      <th>4</th>\n",
              "      <td>LSTM</td>\n",
              "      <td>FastText</td>\n",
              "      <td>2</td>\n",
              "      <td>0.7</td>\n",
              "      <td>0.464000</td>\n",
              "      <td>0.455224</td>\n",
              "      <td>0.500000</td>\n",
              "      <td>0.476562</td>\n",
              "    </tr>\n",
              "  </tbody>\n",
              "</table>\n",
              "</div>"
            ],
            "text/plain": [
              "  Model Embedding Type  Num Layers  Dropout Rate  Accuracy  Precision  \\\n",
              "0  LSTM           Elmo           2           0.7  0.576531   0.586957   \n",
              "1  LSTM           None           2           0.7  0.612000   0.601626   \n",
              "2  LSTM       Word2Vec           2           0.7  0.500000   0.493724   \n",
              "3  LSTM          GloVe           2           0.7  0.528000   0.600000   \n",
              "4  LSTM       FastText           2           0.7  0.464000   0.455224   \n",
              "\n",
              "     Recall  F1 Score  \n",
              "0  0.296703  0.394161  \n",
              "1  0.606557  0.604082  \n",
              "2  0.967213  0.653740  \n",
              "3  0.098361  0.169014  \n",
              "4  0.500000  0.476562  "
            ]
          },
          "execution_count": 45,
          "metadata": {},
          "output_type": "execute_result"
        }
      ],
      "source": [
        "# Display results\n",
        "results_df = pd.DataFrame(results)\n",
        "results_df"
      ]
    },
    {
      "cell_type": "code",
      "execution_count": null,
      "metadata": {
        "id": "NTFidKx-hQvp"
      },
      "outputs": [],
      "source": []
    }
  ],
  "metadata": {
    "colab": {
      "provenance": []
    },
    "kernelspec": {
      "display_name": "Python 3 (ipykernel)",
      "language": "python",
      "name": "python3"
    },
    "language_info": {
      "codemirror_mode": {
        "name": "ipython",
        "version": 3
      },
      "file_extension": ".py",
      "mimetype": "text/x-python",
      "name": "python",
      "nbconvert_exporter": "python",
      "pygments_lexer": "ipython3",
      "version": "3.10.13"
    }
  },
  "nbformat": 4,
  "nbformat_minor": 0
}